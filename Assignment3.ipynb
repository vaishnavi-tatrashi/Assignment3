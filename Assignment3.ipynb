{
 "cells": [
  {
   "cell_type": "code",
   "execution_count": 7,
   "metadata": {},
   "outputs": [
    {
     "name": "stdout",
     "output_type": "stream",
     "text": [
      "Enter numbers:14\n",
      "23\n",
      "12\n",
      "max number is: 23\n"
     ]
    }
   ],
   "source": [
    "#Python function to find the Max of three numbers.\n",
    "def maximum(a,b,c):\n",
    "    if (a>=b and a>=c):\n",
    "        largest=a\n",
    "    elif (b>=a and b>=c):\n",
    "        largest=b\n",
    "    else:\n",
    "        largest=c\n",
    "    return largest\n",
    "a=int(input(\"Enter numbers:\"))\n",
    "b=int(input())\n",
    "c=int(input())\n",
    "print(\"max number is:\",maximum(a,b,c))"
   ]
  },
  {
   "cell_type": "code",
   "execution_count": 1,
   "metadata": {},
   "outputs": [
    {
     "name": "stdout",
     "output_type": "stream",
     "text": [
      "malayalam\n",
      "yes\n"
     ]
    }
   ],
   "source": [
    "#String Palindrome\n",
    "def ispalindrome(s):\n",
    "    return s==s[::-1]\n",
    "s=ispalindrome(input(\"\"))\n",
    "if(s):\n",
    "    print(\"yes\")\n",
    "else:\n",
    "    print(\"no\")"
   ]
  },
  {
   "cell_type": "code",
   "execution_count": 3,
   "metadata": {},
   "outputs": [
    {
     "name": "stdout",
     "output_type": "stream",
     "text": [
      "Enter String:vaishu\n",
      "No\n"
     ]
    }
   ],
   "source": [
    "#String Palindrome\n",
    "s=input(\"Enter String:\")\n",
    "if(s==s[::-1]):\n",
    "    print(\"yes\")\n",
    "else:\n",
    "    print(\"No\")"
   ]
  },
  {
   "cell_type": "code",
   "execution_count": 9,
   "metadata": {},
   "outputs": [
    {
     "name": "stdout",
     "output_type": "stream",
     "text": [
      "Enter string:My name Is VaiShnAvI_PY\n",
      "Original String :  My name Is VaiShnAvI_PY\n",
      "No. of Upper case characters :  8\n",
      "No. of Lower case Characters :  11\n"
     ]
    }
   ],
   "source": [
    "#Write a Python function that accepts a string and calculate the number of uppercase letters and\n",
    "#lowercase letters\n",
    "def string_test(s):\n",
    "    d={\"Upper_case\":0,\"Lower_case\":0}\n",
    "    for c in s:\n",
    "        if c.isupper():\n",
    "            d[\"Upper_case\"]+=1\n",
    "        elif c.islower():\n",
    "            d[\"Lower_case\"]+=1\n",
    "        else:\n",
    "            pass\n",
    "    print(\"Original String : \", s)\n",
    "    print (\"No. of Upper case characters : \", d[\"Upper_case\"])\n",
    "    print (\"No. of Lower case Characters : \", d[\"Lower_case\"])\n",
    "string_test(input(\"Enter string:\"))"
   ]
  },
  {
   "cell_type": "code",
   "execution_count": 15,
   "metadata": {},
   "outputs": [
    {
     "name": "stdout",
     "output_type": "stream",
     "text": [
      "35\n"
     ]
    }
   ],
   "source": [
    "#Write a Python function to sum all the numbers in a list\n",
    "def Sum(numbers):\n",
    "    total=0\n",
    "    for x in numbers:\n",
    "        total+=x\n",
    "    return total\n",
    "\n",
    "print(Sum([5,6,7,8,9]))"
   ]
  },
  {
   "cell_type": "code",
   "execution_count": 14,
   "metadata": {},
   "outputs": [
    {
     "name": "stdout",
     "output_type": "stream",
     "text": [
      "55\n"
     ]
    }
   ],
   "source": [
    "#Write a Python function to sum all the numbers in a list\n",
    "list=[1,2,3,4,5,6,7,8,9,10]\n",
    "print(sum(list))"
   ]
  },
  {
   "cell_type": "code",
   "execution_count": 16,
   "metadata": {},
   "outputs": [
    {
     "name": "stdout",
     "output_type": "stream",
     "text": [
      "720\n"
     ]
    }
   ],
   "source": [
    "#Write a Python function to multiply all the numbers in a list\n",
    "def multiply(mylist):\n",
    "    result=1\n",
    "    for x in mylist:\n",
    "        result=result*x\n",
    "    return result\n",
    "print(multiply([1,2,3,4,5,6]))"
   ]
  },
  {
   "cell_type": "code",
   "execution_count": 22,
   "metadata": {},
   "outputs": [
    {
     "name": "stdout",
     "output_type": "stream",
     "text": [
      "[1, 2, 3, 4, 5, 6, 7, 23]\n"
     ]
    }
   ],
   "source": [
    "#Write a Python function that takes a list and returns a new list with unique elements of the first list\n",
    "def unique(l):\n",
    "    x=[]\n",
    "    for a in l:\n",
    "        if a not in x:\n",
    "            x.append(a)\n",
    "    return x\n",
    "l=[1,2,1,3,4,2,5,1,5,6,4,7,1,2,23,1,2,3,4]\n",
    "print(unique(l))"
   ]
  },
  {
   "cell_type": "code",
   "execution_count": null,
   "metadata": {},
   "outputs": [],
   "source": []
  }
 ],
 "metadata": {
  "kernelspec": {
   "display_name": "Python 3",
   "language": "python",
   "name": "python3"
  },
  "language_info": {
   "codemirror_mode": {
    "name": "ipython",
    "version": 3
   },
   "file_extension": ".py",
   "mimetype": "text/x-python",
   "name": "python",
   "nbconvert_exporter": "python",
   "pygments_lexer": "ipython3",
   "version": "3.8.3"
  }
 },
 "nbformat": 4,
 "nbformat_minor": 4
}
